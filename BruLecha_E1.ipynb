{
 "cells": [
  {
   "cell_type": "markdown",
   "id": "65a11ddf",
   "metadata": {},
   "source": [
    "Exercici 1: Enters"
   ]
  },
  {
   "cell_type": "code",
   "execution_count": null,
   "id": "8d66e18b",
   "metadata": {},
   "outputs": [],
   "source": [
    "preu_entrada= 8.35"
   ]
  },
  {
   "cell_type": "code",
   "execution_count": 4,
   "id": "80d3e5ac",
   "metadata": {},
   "outputs": [],
   "source": [
    "nombre_entrades=1"
   ]
  },
  {
   "cell_type": "code",
   "execution_count": 6,
   "id": "2ea718f5",
   "metadata": {},
   "outputs": [],
   "source": [
    "cost_total=(preu_entrada)*(nombre_entrades)"
   ]
  },
  {
   "cell_type": "code",
   "execution_count": 8,
   "id": "fef7084e",
   "metadata": {},
   "outputs": [
    {
     "data": {
      "text/plain": [
       "8.35"
      ]
     },
     "execution_count": 8,
     "metadata": {},
     "output_type": "execute_result"
    }
   ],
   "source": [
    "cost_total"
   ]
  },
  {
   "cell_type": "code",
   "execution_count": 9,
   "id": "50b7de83",
   "metadata": {},
   "outputs": [],
   "source": [
    "nombre_entrades=5"
   ]
  },
  {
   "cell_type": "code",
   "execution_count": 11,
   "id": "262cc2a8",
   "metadata": {},
   "outputs": [],
   "source": [
    "cost_total=(preu_entrada)*(nombre_entrades)"
   ]
  },
  {
   "cell_type": "code",
   "execution_count": 12,
   "id": "b394568e",
   "metadata": {},
   "outputs": [
    {
     "data": {
      "text/plain": [
       "41.75"
      ]
     },
     "execution_count": 12,
     "metadata": {},
     "output_type": "execute_result"
    }
   ],
   "source": [
    "cost_total"
   ]
  },
  {
   "cell_type": "code",
   "execution_count": 13,
   "id": "98afd479",
   "metadata": {},
   "outputs": [],
   "source": [
    "nombre_entrades=354"
   ]
  },
  {
   "cell_type": "code",
   "execution_count": 14,
   "id": "4f899514",
   "metadata": {},
   "outputs": [],
   "source": [
    "cost_total=(preu_entrada)*(nombre_entrades)"
   ]
  },
  {
   "cell_type": "code",
   "execution_count": 15,
   "id": "d27c2d4b",
   "metadata": {},
   "outputs": [
    {
     "data": {
      "text/plain": [
       "2955.9"
      ]
     },
     "execution_count": 15,
     "metadata": {},
     "output_type": "execute_result"
    }
   ],
   "source": [
    "cost_total"
   ]
  },
  {
   "cell_type": "code",
   "execution_count": 33,
   "id": "518f2c9f",
   "metadata": {},
   "outputs": [],
   "source": [
    "preu_entrades=8.35"
   ]
  },
  {
   "cell_type": "code",
   "execution_count": 40,
   "id": "dbe1f708",
   "metadata": {},
   "outputs": [
    {
     "data": {
      "text/plain": [
       "8.35"
      ]
     },
     "execution_count": 40,
     "metadata": {},
     "output_type": "execute_result"
    }
   ],
   "source": [
    "preu_entrades"
   ]
  },
  {
   "cell_type": "code",
   "execution_count": 41,
   "id": "9e9b4a4f",
   "metadata": {},
   "outputs": [],
   "source": [
    "nombre_entrades_retornades=4"
   ]
  },
  {
   "cell_type": "code",
   "execution_count": 42,
   "id": "d22f0863",
   "metadata": {},
   "outputs": [
    {
     "data": {
      "text/plain": [
       "4"
      ]
     },
     "execution_count": 42,
     "metadata": {},
     "output_type": "execute_result"
    }
   ],
   "source": [
    "nombre_entrades_retornades"
   ]
  },
  {
   "cell_type": "code",
   "execution_count": 64,
   "id": "f7494053",
   "metadata": {},
   "outputs": [],
   "source": [
    "percentatge=8.54*88/100"
   ]
  },
  {
   "cell_type": "code",
   "execution_count": 65,
   "id": "f6c0cc8c",
   "metadata": {},
   "outputs": [
    {
     "data": {
      "text/plain": [
       "7.5152"
      ]
     },
     "execution_count": 65,
     "metadata": {},
     "output_type": "execute_result"
    }
   ],
   "source": [
    "percentatge"
   ]
  },
  {
   "cell_type": "code",
   "execution_count": 70,
   "id": "eb5e0880",
   "metadata": {},
   "outputs": [],
   "source": [
    "nombre_entrades=10"
   ]
  },
  {
   "cell_type": "code",
   "execution_count": 71,
   "id": "270a8028",
   "metadata": {},
   "outputs": [
    {
     "data": {
      "text/plain": [
       "10"
      ]
     },
     "execution_count": 71,
     "metadata": {},
     "output_type": "execute_result"
    }
   ],
   "source": [
    "nombre_entrades"
   ]
  },
  {
   "cell_type": "code",
   "execution_count": 72,
   "id": "2022b6d6",
   "metadata": {},
   "outputs": [],
   "source": [
    "cost_total=(nombre_entrades*preu_entrades)-nombre_entrades_retornades*percentatge"
   ]
  },
  {
   "cell_type": "code",
   "execution_count": 73,
   "id": "9a4a373c",
   "metadata": {},
   "outputs": [
    {
     "data": {
      "text/plain": [
       "53.4392"
      ]
     },
     "execution_count": 73,
     "metadata": {},
     "output_type": "execute_result"
    }
   ],
   "source": [
    "cost_total"
   ]
  },
  {
   "cell_type": "markdown",
   "id": "03a94003",
   "metadata": {},
   "source": [
    "Exercici2\n"
   ]
  },
  {
   "cell_type": "code",
   "execution_count": 74,
   "id": "2aacdc9a",
   "metadata": {},
   "outputs": [],
   "source": [
    "infectats_inicials=10"
   ]
  },
  {
   "cell_type": "code",
   "execution_count": 80,
   "id": "024f8ebe",
   "metadata": {},
   "outputs": [],
   "source": [
    "poblacio=1000"
   ]
  },
  {
   "cell_type": "code",
   "execution_count": 81,
   "id": "a34a19e5",
   "metadata": {},
   "outputs": [],
   "source": [
    "taxa_contagiats=0.01"
   ]
  },
  {
   "cell_type": "code",
   "execution_count": 82,
   "id": "7cf86719",
   "metadata": {},
   "outputs": [],
   "source": [
    "num_dies=5"
   ]
  },
  {
   "cell_type": "code",
   "execution_count": 83,
   "id": "b748896c",
   "metadata": {},
   "outputs": [],
   "source": [
    "infectats_totals=infectats_inicials+(poblacio-infectats_inicials)*(1-(1-taxa_contagiats)**5)"
   ]
  },
  {
   "cell_type": "code",
   "execution_count": 84,
   "id": "971d8155",
   "metadata": {},
   "outputs": [
    {
     "data": {
      "text/plain": [
       "58.51985059900009"
      ]
     },
     "execution_count": 84,
     "metadata": {},
     "output_type": "execute_result"
    }
   ],
   "source": [
    "infectats_totals"
   ]
  },
  {
   "cell_type": "markdown",
   "id": "9fc39b6f",
   "metadata": {},
   "source": [
    "Exercici4"
   ]
  },
  {
   "cell_type": "code",
   "execution_count": 90,
   "id": "1ae4e359",
   "metadata": {},
   "outputs": [],
   "source": [
    "nom=\"Bru Lecha\""
   ]
  },
  {
   "cell_type": "code",
   "execution_count": 91,
   "id": "14b3c49e",
   "metadata": {},
   "outputs": [],
   "source": [
    "primera_lletra=\"B\""
   ]
  },
  {
   "cell_type": "code",
   "execution_count": 92,
   "id": "64fbfc84",
   "metadata": {},
   "outputs": [
    {
     "data": {
      "text/plain": [
       "'B'"
      ]
     },
     "execution_count": 92,
     "metadata": {},
     "output_type": "execute_result"
    }
   ],
   "source": [
    "primera_lletra"
   ]
  },
  {
   "cell_type": "code",
   "execution_count": 93,
   "id": "abeda3dc",
   "metadata": {},
   "outputs": [
    {
     "data": {
      "text/plain": [
       "'Bru Lecha'"
      ]
     },
     "execution_count": 93,
     "metadata": {},
     "output_type": "execute_result"
    }
   ],
   "source": [
    "nom"
   ]
  },
  {
   "cell_type": "code",
   "execution_count": 95,
   "id": "3dc36ad4",
   "metadata": {},
   "outputs": [],
   "source": [
    "ultima_lletra=\"a\""
   ]
  },
  {
   "cell_type": "code",
   "execution_count": 96,
   "id": "66b24e6c",
   "metadata": {},
   "outputs": [
    {
     "data": {
      "text/plain": [
       "'a'"
      ]
     },
     "execution_count": 96,
     "metadata": {},
     "output_type": "execute_result"
    }
   ],
   "source": [
    "ultima_lletra"
   ]
  },
  {
   "cell_type": "code",
   "execution_count": 111,
   "id": "8521605e",
   "metadata": {},
   "outputs": [],
   "source": [
    "tres_lletres=\"rul\""
   ]
  },
  {
   "cell_type": "code",
   "execution_count": 112,
   "id": "fe4da717",
   "metadata": {},
   "outputs": [],
   "source": [
    "nom_M=nom.upper()"
   ]
  },
  {
   "cell_type": "code",
   "execution_count": 113,
   "id": "002fe42b",
   "metadata": {},
   "outputs": [],
   "source": [
    "nom_m=nom.lower()"
   ]
  },
  {
   "cell_type": "code",
   "execution_count": 116,
   "id": "115d88e5",
   "metadata": {},
   "outputs": [],
   "source": [
    "llargada_nom=len(nom)"
   ]
  },
  {
   "cell_type": "code",
   "execution_count": 115,
   "id": "83ea9ac4",
   "metadata": {},
   "outputs": [
    {
     "name": "stdout",
     "output_type": "stream",
     "text": [
      "Hola, el meu nom és Bru Lecha.\n",
      " La primera lletra del meu nom és B.\n",
      " L'última lletra del meu nom és a.\n",
      " Els tres caràcters entre la posició 2 i la posició 5 són: rul.\n",
      " El meu nom amb espais, té 9 caràcters. \n",
      " El meu nom amb majúscules es veu així: BRU LECHA. \n",
      " El meu nom en minúscules es veu així: bru lecha.\n"
     ]
    }
   ],
   "source": [
    "print(f\"Hola, el meu nom és {nom}.\\n La primera lletra del meu nom és {primera_lletra}.\\n L'última lletra del meu nom és {ultima_lletra}.\\n Els tres caràcters entre la posició 2 i la posició 5 són: {tres_lletres}.\\n El meu nom amb espais, té {llargada_nom} caràcters. \\n El meu nom amb majúscules es veu així: {nom_M}. \\n El meu nom en minúscules es veu així: {nom_m}.\")"
   ]
  }
 ],
 "metadata": {
  "kernelspec": {
   "display_name": "Python 3",
   "language": "python",
   "name": "python3"
  },
  "language_info": {
   "codemirror_mode": {
    "name": "ipython",
    "version": 3
   },
   "file_extension": ".py",
   "mimetype": "text/x-python",
   "name": "python",
   "nbconvert_exporter": "python",
   "pygments_lexer": "ipython3",
   "version": "3.13.7"
  }
 },
 "nbformat": 4,
 "nbformat_minor": 5
}
